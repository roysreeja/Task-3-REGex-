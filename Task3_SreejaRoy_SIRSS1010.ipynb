{
 "cells": [
  {
   "cell_type": "markdown",
   "id": "ac5554ef",
   "metadata": {},
   "source": [
    "# Write a function to return nth term of Fibonacci sequence\n",
    "\n"
   ]
  },
  {
   "cell_type": "code",
   "execution_count": 14,
   "id": "18c8d11b",
   "metadata": {},
   "outputs": [
    {
     "name": "stdout",
     "output_type": "stream",
     "text": [
      "3\n"
     ]
    }
   ],
   "source": [
    "def fibonacci(n):\n",
    "    a=0\n",
    "    b=1\n",
    "    if n==1:\n",
    "        print(a)\n",
    "    elif n==2:\n",
    "        print(b)\n",
    "    else:\n",
    "        for i in range(2,n):\n",
    "            c=a+b\n",
    "            a=b\n",
    "            b=c\n",
    "    print(c)\n",
    "        \n",
    "fibonacci(5)"
   ]
  },
  {
   "cell_type": "markdown",
   "id": "5903d559",
   "metadata": {},
   "source": [
    "# Write a function to find out GCD of two numbers using EUCLID'S algorithm"
   ]
  },
  {
   "cell_type": "code",
   "execution_count": 15,
   "id": "b846c966",
   "metadata": {},
   "outputs": [
    {
     "name": "stdout",
     "output_type": "stream",
     "text": [
      "enter the first number : 7\n",
      "enter the second number : 9\n",
      "1\n"
     ]
    }
   ],
   "source": [
    "def gcd(a,b):\n",
    "    if b==0:return a\n",
    "    return gcd(b,a%b)\n",
    "    if a==0:return b\n",
    "    return gcd(a%b,a)\n",
    "a=int(input(\"enter the first number : \"))\n",
    "b=int(input(\"enter the second number : \"))\n",
    "print(gcd(a,b))"
   ]
  },
  {
   "cell_type": "markdown",
   "id": "61e35899",
   "metadata": {},
   "source": [
    "# Write a function to find LCM of two number in most optimized way"
   ]
  },
  {
   "cell_type": "code",
   "execution_count": 16,
   "id": "b277e69d",
   "metadata": {},
   "outputs": [
    {
     "name": "stdout",
     "output_type": "stream",
     "text": [
      "Enter the first value : 6\n",
      "Enter the second value : 12\n",
      "Lcm of  6 and 12 is  12\n"
     ]
    }
   ],
   "source": [
    "def lcm(a,b):\n",
    "    if a>b:\n",
    "        higher=a\n",
    "    else:\n",
    "        higher=b\n",
    "    value=higher\n",
    "    while True:\n",
    "        if higher%a==0 and higher%b==0:\n",
    "            print(\"Lcm of \",a,\"and\",b,\"is \",higher)\n",
    "            break\n",
    "        else:\n",
    "            higher=higher+value\n",
    "            \n",
    "a=int(input(\"Enter the first value : \"))\n",
    "b=int(input(\"Enter the second value : \"))\n",
    "\n",
    "lcm(a,b)"
   ]
  },
  {
   "cell_type": "code",
   "execution_count": null,
   "id": "b5f3f4d1",
   "metadata": {},
   "outputs": [],
   "source": []
  }
 ],
 "metadata": {
  "kernelspec": {
   "display_name": "Python 3",
   "language": "python",
   "name": "python3"
  },
  "language_info": {
   "codemirror_mode": {
    "name": "ipython",
    "version": 3
   },
   "file_extension": ".py",
   "mimetype": "text/x-python",
   "name": "python",
   "nbconvert_exporter": "python",
   "pygments_lexer": "ipython3",
   "version": "3.8.8"
  }
 },
 "nbformat": 4,
 "nbformat_minor": 5
}
